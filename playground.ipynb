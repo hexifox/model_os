{
 "cells": [
  {
   "cell_type": "code",
   "execution_count": null,
   "metadata": {},
   "outputs": [],
   "source": [
    "import requests\n",
    "\n",
    "# Load the model\n",
    "load_data = {\"num_gpus\": 1, \"models_per_gpu\": 1}\n",
    "response = requests.post(\"http://127.0.0.1:8000/load\", json=load_data)\n",
    "\n",
    "# change to your image\n",
    "uk = \"C:/Users/Mariyan/Downloads/uk_passport.png\"\n",
    "# webp doesn't work\n",
    "togo = \"C:/Users/Mariyan/Downloads/togo_anmeldung_1.webp\"\n",
    "\n",
    "prompt = \"whats the passport number\"\n",
    "# Send a prompt\n",
    "prompt_data = {\n",
    "    \"model\": 0, #TODO model_path\n",
    "    \"image\": uk, # optional, can be None\n",
    "    \"text\": prompt\n",
    "}\n",
    "response = requests.post(\"http://127.0.0.1:8000/prompt\", json=prompt_data)\n",
    "print(response.json()['response'])"
   ]
  }
 ],
 "metadata": {
  "language_info": {
   "name": "python"
  }
 },
 "nbformat": 4,
 "nbformat_minor": 2
}
